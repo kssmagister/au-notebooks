{
  "nbformat": 4,
  "nbformat_minor": 0,
  "metadata": {
    "colab": {
      "name": "pick_random_words_export_to_word.ipynb",
      "provenance": [],
      "collapsed_sections": [],
      "authorship_tag": "ABX9TyP+s2XI8UC/qbCnCW1fH4hv",
      "include_colab_link": true
    },
    "kernelspec": {
      "name": "python3",
      "display_name": "Python 3"
    },
    "language_info": {
      "name": "python"
    }
  },
  "cells": [
    {
      "cell_type": "markdown",
      "metadata": {
        "id": "view-in-github",
        "colab_type": "text"
      },
      "source": [
        "<a href=\"https://colab.research.google.com/github/kssmagister/au-notebooks/blob/main/pick_random_words_export_to_word.ipynb\" target=\"_parent\"><img src=\"https://colab.research.google.com/assets/colab-badge.svg\" alt=\"Open In Colab\"/></a>"
      ]
    },
    {
      "cell_type": "code",
      "metadata": {
        "colab": {
          "base_uri": "https://localhost:8080/"
        },
        "id": "0R-0wZGRVhyw",
        "outputId": "4cb82229-1e73-433b-e162-8aa8ca347b05"
      },
      "source": [
        "!pip install python-docx"
      ],
      "execution_count": null,
      "outputs": [
        {
          "output_type": "stream",
          "name": "stdout",
          "text": [
            "Collecting python-docx\n",
            "  Downloading python-docx-0.8.11.tar.gz (5.6 MB)\n",
            "\u001b[K     |████████████████████████████████| 5.6 MB 5.2 MB/s \n",
            "\u001b[?25hRequirement already satisfied: lxml>=2.3.2 in /usr/local/lib/python3.7/dist-packages (from python-docx) (4.2.6)\n",
            "Building wheels for collected packages: python-docx\n",
            "  Building wheel for python-docx (setup.py) ... \u001b[?25l\u001b[?25hdone\n",
            "  Created wheel for python-docx: filename=python_docx-0.8.11-py3-none-any.whl size=184508 sha256=5a17cdd41920ee9535ed099719a1dbc2996aef85a20f7a5d6a142cd2913185d9\n",
            "  Stored in directory: /root/.cache/pip/wheels/f6/6f/b9/d798122a8b55b74ad30b5f52b01482169b445fbb84a11797a6\n",
            "Successfully built python-docx\n",
            "Installing collected packages: python-docx\n",
            "Successfully installed python-docx-0.8.11\n"
          ]
        }
      ]
    },
    {
      "cell_type": "code",
      "metadata": {
        "colab": {
          "base_uri": "https://localhost:8080/"
        },
        "id": "RffKpiFweKH8",
        "outputId": "ed2c535f-5889-4742-bb03-c525c3574f0f"
      },
      "source": [
        "# Load \"MyText.txt\" in colab\n",
        "!curl -O -L https://www.dropbox.com/s/juoh6w65mloj9il/Vulgata_Text3.txt"
      ],
      "execution_count": null,
      "outputs": [
        {
          "output_type": "stream",
          "name": "stdout",
          "text": [
            "  % Total    % Received % Xferd  Average Speed   Time    Time     Time  Current\n",
            "                                 Dload  Upload   Total   Spent    Left  Speed\n",
            "100   142    0   142    0     0    533      0 --:--:-- --:--:-- --:--:--   533\n",
            "100   318  100   318    0     0    639      0 --:--:-- --:--:-- --:--:--   639\n",
            "100   383  100   383    0     0    508      0 --:--:-- --:--:-- --:--:--     0\n"
          ]
        }
      ]
    },
    {
      "cell_type": "code",
      "metadata": {
        "colab": {
          "base_uri": "https://localhost:8080/"
        },
        "id": "vWbOzzGOdLTT",
        "outputId": "46ac5544-ffd5-4e0a-ee8d-62c0de2ec797"
      },
      "source": [
        "# Python code to pick a random\n",
        "# word from a text file\n",
        "import os\n",
        "import sys\n",
        "import random\n",
        "import string\n",
        "import re\n",
        "from datetime import datetime\n",
        "\n",
        "# Create timestamp for filename\n",
        "now = datetime.now()\n",
        "today = now.strftime(\"(%d-%m-%Y-%H-%M-%S)\")\n",
        "Date = (today)\n",
        "\n",
        "# Open Latin textfile in read mode as \"allText\"\n",
        "# Make list \"words\" from textfile\n",
        "with open(os.path.join(sys.path[0], \"Vulgata_Text3.txt\"), \"r\") as file:\n",
        "    allText = file.read()\n",
        "    words = list(map(str, allText.split()))\n",
        "\n",
        "# Select x words (= \"anzahl\") from list \"words\"\n",
        "anzahl = input(\"Anzahl Wörter eingeben: \")\n",
        "anzahl = int(anzahl)\n",
        "rand_words = random.sample(words,k=anzahl)\n",
        "\n",
        "# Replace the \"anzahl\" words with \".....\" in \"allText\" (= cloze text)\n",
        "cloze_text = ' '.join(\".....\" if i in rand_words else i for i in allText.split())\n",
        "\n",
        "\n",
        "# Sort list items (= cloze solution) and remove punctuation\n",
        "rand_sorted = (' '.join(sorted(rand_words)))\n",
        "rand_punc = re.sub(r'[!?.:;,\"()-]','',rand_sorted)\n",
        "# Create file with timestamp and insert cloze_text and rand_punc\n",
        "with open(\"pensum_word\" + \".txt\", \"w\") as f:\n",
        "    f.write('\\n' + 'Welches Wort passt?' + '\\n' + cloze_text + '\\n' + 'Auswahl:' + '\\n' + rand_punc + '\\n')\n",
        "    f.close()\n",
        "\n",
        "# Message\n",
        "print(\"Die Übung wurde erfolgreich erstellt.\")"
      ],
      "execution_count": null,
      "outputs": [
        {
          "output_type": "stream",
          "name": "stdout",
          "text": [
            "Anzahl Wörter eingeben: 5\n",
            "Die Übung wurde erfolgreich erstellt.\n"
          ]
        }
      ]
    },
    {
      "cell_type": "code",
      "metadata": {
        "id": "uWtJz_FiV7gU"
      },
      "source": [
        "from docx import Document\n",
        "\n",
        "# Convert txt to docx\n",
        "document = Document()\n",
        "with open('pensum_word.txt') as f:\n",
        "  for line in f:\n",
        "    document.add_paragraph(line)\n",
        "document.save('pensum_word.docx')"
      ],
      "execution_count": null,
      "outputs": []
    }
  ]
}