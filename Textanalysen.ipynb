{
  "nbformat": 4,
  "nbformat_minor": 0,
  "metadata": {
    "colab": {
      "provenance": [],
      "authorship_tag": "ABX9TyOWtAmKgrHqvfFHjdcUY967",
      "include_colab_link": true
    },
    "kernelspec": {
      "name": "python3",
      "display_name": "Python 3"
    },
    "language_info": {
      "name": "python"
    }
  },
  "cells": [
    {
      "cell_type": "markdown",
      "metadata": {
        "id": "view-in-github",
        "colab_type": "text"
      },
      "source": [
        "<a href=\"https://colab.research.google.com/github/kssmagister/au-notebooks/blob/main/Textanalysen.ipynb\" target=\"_parent\"><img src=\"https://colab.research.google.com/assets/colab-badge.svg\" alt=\"Open In Colab\"/></a>"
      ]
    },
    {
      "cell_type": "markdown",
      "source": [
        "# Formale Textanalysen mit Python"
      ],
      "metadata": {
        "id": "JUsmcU6WZrq3"
      }
    },
    {
      "cell_type": "markdown",
      "source": [
        "## Histogramm der Buchstaben\n",
        "Ein Histogramm ist eine grafische Darstellung der Häufigkeitsverteilung kardinal skalierter Merkmale."
      ],
      "metadata": {
        "id": "IYBP-W_zbknY"
      }
    },
    {
      "cell_type": "code",
      "source": [
        "import re\n",
        "import pandas as pd\n",
        "import matplotlib.pyplot as plt\n",
        "\n",
        "test = \"\"\"Vides ut alta stet nive candidum\n",
        "Soracte nec iam sustineant onus\n",
        "     silvae laborantes geluque\n",
        "     flumina constiterint acuto?\n",
        "\n",
        "Dissolve frigus ligna super foco               5\n",
        "large reponens atque benignius\n",
        "     deprome quadrimum Sabina,\n",
        "     o Thaliarche, merum diota.\n",
        "\n",
        "Permitte divis cetera, qui simul\n",
        "stravere ventos aequore fervido               10\n",
        "     deproeliantis, nec cupressi\n",
        "     nec veteres agitantur orni.\n",
        "\n",
        "Quid sit futurum cras, fuge quaerere, et\n",
        "quem fors dierum cumque dabit, lucro\n",
        "     adpone nec dulcis amores\n",
        "     sperne, puer, neque tu choreas,               15\n",
        "\n",
        "donec virenti canities abest\n",
        "morosa. Nunc et Campus et areae\n",
        "     lenesque sub noctem susurri\n",
        "     composita repetantur hora,\n",
        "\n",
        "nunc et latentis proditor intumo               20\n",
        "gratus puellae risus ab angulo\n",
        "     pignusque dereptum lacertis\n",
        "     aut digito male pertinaci. \"\"\"\n",
        "\n",
        "# remove punctuation, whitespaces, tabs, linebreak, digits\n",
        "test = re.sub(r\"[\\n\\t\\s,.!?\\d]*\", \"\", test).lower()\n",
        "\n",
        "# convert input to list of chars so it is easy to get into pandas \n",
        "char_list = list(test)\n",
        "\n",
        "# create a dataframe where each char is one row\n",
        "df = pd.DataFrame({'chars': char_list})\n",
        "# drop all the space characters\n",
        "df = df[df.chars != ' ']\n",
        "# add a column for aggregation later\n",
        "df['num'] = 1\n",
        "# group rows by character type, count the occurences in each group\n",
        "# and sort by occurance\n",
        "df = df.groupby('chars').sum().sort_values('num', ascending=False) / len(df)\n",
        "\n",
        "plt.bar(df.index, df.num, width=0.5, color='g')\n",
        "plt.show()\n",
        "\n",
        "# print test\n",
        "print(test)"
      ],
      "metadata": {
        "colab": {
          "base_uri": "https://localhost:8080/",
          "height": 307
        },
        "id": "n2RzM6AWeOF1",
        "outputId": "b79453d7-e58d-4ecf-8dbc-a027228e9238"
      },
      "execution_count": null,
      "outputs": [
        {
          "output_type": "display_data",
          "data": {
            "text/plain": [
              "<Figure size 432x288 with 1 Axes>"
            ],
            "image/png": "[encoded data removed]"
          },
          "metadata": {
            "needs_background": "light"
          }
        },
        {
          "output_type": "stream",
          "name": "stdout",
          "text": [
            "videsutaltastetnivecandidumsoracteneciamsustineantonussilvaelaborantesgeluquefluminaconstiterintacutodissolvefriguslignasuperfocolargereponensatquebenigniusdepromequadrimumsabinaothaliarchemerumdiotapermittedivisceteraquisimulstravereventosaequorefervidodeproeliantisneccupressinecveteresagitanturorniquidsitfuturumcrasfugequaerereetquemforsdierumcumquedabitlucroadponenecdulcisamoresspernepuernequetuchoreasdonecvirenticanitiesabestmorosanuncetcampusetareaelenesquesubnoctemsusurricompositarepetanturhoranuncetlatentisproditorintumogratuspuellaerisusabangulopignusquedereptumlacertisautdigitomalepertinaci\n"
          ]
        }
      ]
    },
    {
      "cell_type": "markdown",
      "source": [
        "### Scattertext\n",
        "- https://towardsdatascience.com/interpreting-scattertext-a-seductive-tool-for-plotting-text-2e94e5824858"
      ],
      "metadata": {
        "id": "AyyQVRoz_qbr"
      }
    },
    {
      "cell_type": "code",
      "source": [
        "import numpy\n",
        "import re\n",
        "import operator\n",
        "import matplotlib.pyplot as plt\n",
        "\n",
        "text = \"\"\"Vides ut alta stet nive candidum\n",
        "Soracte nec iam sustineant onus\n",
        "     silvae laborantes geluque\n",
        "     flumina constiterint acuto?\n",
        "\n",
        "Dissolve frigus ligna super foco               5\n",
        "large reponens atque benignius\n",
        "     deprome quadrimum Sabina,\n",
        "     o Thaliarche, merum diota.\n",
        "\n",
        "Permitte divis cetera, qui simul\n",
        "stravere ventos aequore fervido               10\n",
        "     deproeliantis, nec cupressi\n",
        "     nec veteres agitantur orni.\n",
        "\n",
        "Quid sit futurum cras, fuge quaerere, et\n",
        "quem fors dierum cumque dabit, lucro\n",
        "     adpone nec dulcis amores\n",
        "     sperne, puer, neque tu choreas,               15\n",
        "\n",
        "donec virenti canities abest\n",
        "morosa. Nunc et Campus et areae\n",
        "     lenesque sub noctem susurri\n",
        "     composita repetantur hora,\n",
        "\n",
        "nunc et latentis proditor intumo               20\n",
        "gratus puellae risus ab angulo\n",
        "     pignusque dereptum lacertis\n",
        "     aut digito male pertinaci. \"\"\"\n",
        "\n",
        "# remove punctuation, whitespaces, tabs, linebreak, digits\n",
        "text = re.sub(r\"[\\n\\t\\s,.!?\\d]*\", \"\", text).lower()\n",
        "\n",
        "# Python3 code to demonstrate\n",
        "# each occurrence frequency using\n",
        "# dict.get()\n",
        "\n",
        "# using dict.get() to get count\n",
        "# of each element in string\n",
        "res = {}\n",
        "\n",
        "for keys in text:\n",
        "\tres[keys] = res.get(keys, 0) + 1\n",
        "\n",
        "# d = {'one':1,'three':3,'five':5,'two':2,'four':4}\n",
        "#res = dict( sorted(res.items(), key=operator.itemgetter(1),reverse=True))\n",
        "\n",
        "x = res.keys() # a list of the dict keys\n",
        "y = res.values() # a list of the dict values\n",
        "\n",
        "\n",
        "plt.scatter(x, y)\n",
        "plt.show()\n"
      ],
      "metadata": {
        "colab": {
          "base_uri": "https://localhost:8080/",
          "height": 265
        },
        "outputId": "6caff8b2-5e92-4a85-9f07-42ab098c94fd",
        "id": "e6TGi8SF93gk"
      },
      "execution_count": null,
      "outputs": [
        {
          "output_type": "display_data",
          "data": {
            "text/plain": [
              "<Figure size 432x288 with 1 Axes>"
            ],
            "image/png": "[encoded data removed]"
          },
          "metadata": {
            "needs_background": "light"
          }
        }
      ]
    },
    {
      "cell_type": "code",
      "source": [
        "import re\n",
        "import operator\n",
        "import matplotlib.pyplot as plt\n",
        "\n",
        "text = \"\"\"Vides ut alta stet nive candidum\n",
        "Soracte nec iam sustineant onus\n",
        "     silvae laborantes geluque\n",
        "     flumina constiterint acuto?\n",
        "\n",
        "Dissolve frigus ligna super foco               5\n",
        "large reponens atque benignius\n",
        "     deprome quadrimum Sabina,\n",
        "     o Thaliarche, merum diota.\n",
        "\n",
        "Permitte divis cetera, qui simul\n",
        "stravere ventos aequore fervido               10\n",
        "     deproeliantis, nec cupressi\n",
        "     nec veteres agitantur orni.\n",
        "\n",
        "Quid sit futurum cras, fuge quaerere, et\n",
        "quem fors dierum cumque dabit, lucro\n",
        "     adpone nec dulcis amores\n",
        "     sperne, puer, neque tu choreas,               15\n",
        "\n",
        "donec virenti canities abest\n",
        "morosa. Nunc et Campus et areae\n",
        "     lenesque sub noctem susurri\n",
        "     composita repetantur hora,\n",
        "\n",
        "nunc et latentis proditor intumo               20\n",
        "gratus puellae risus ab angulo\n",
        "     pignusque dereptum lacertis\n",
        "     aut digito male pertinaci. \"\"\"\n",
        "\n",
        "# remove punctuation, whitespaces, tabs, linebreak, digits\n",
        "text = re.sub(r\"[\\n\\t\\s,.!?\\d]*\", \"\", text).lower()\n",
        "\n",
        "# Python3 code to demonstrate\n",
        "# each occurrence frequency using\n",
        "# dict.get()\n",
        "\n",
        "# using dict.get() to get count\n",
        "# of each element in string\n",
        "res = {}\n",
        "\n",
        "for keys in text:\n",
        "\tres[keys] = res.get(keys, 0) + 1\n",
        "\n",
        "# d = {'one':1,'three':3,'five':5,'two':2,'four':4}\n",
        "res = dict( sorted(res.items(), key=operator.itemgetter(1),reverse=True))\n",
        "\n",
        "\n",
        "x = res.keys() # a list of the dict keys\n",
        "y = res.values() # a list of the dict values\n",
        "\n",
        "plt.scatter(x, y)\n",
        "plt.show()\n"
      ],
      "metadata": {
        "colab": {
          "base_uri": "https://localhost:8080/",
          "height": 265
        },
        "id": "fA8BcBwW4zCa",
        "outputId": "af51e1aa-4456-4d03-9582-5e7fe324e87d"
      },
      "execution_count": null,
      "outputs": [
        {
          "output_type": "display_data",
          "data": {
            "text/plain": [
              "<Figure size 432x288 with 1 Axes>"
            ],
            "image/png": "[encoded data removed]"
          },
          "metadata": {
            "needs_background": "light"
          }
        }
      ]
    },
    {
      "cell_type": "markdown",
      "source": [
        "## Lautmuster"
      ],
      "metadata": {
        "id": "DmGr6DWYA4oT"
      }
    },
    {
      "cell_type": "markdown",
      "source": [
        "### Lautmuster: nur Konsonanten\n",
        "\n"
      ],
      "metadata": {
        "id": "zxp1QeZQwnht"
      }
    },
    {
      "cell_type": "code",
      "source": [
        "import re\n",
        "\n",
        "test = \"\"\"Vides ut alta stet nive candidum\n",
        "Soracte nec iam sustineant onus\n",
        "     silvae laborantes geluque\n",
        "     flumina constiterint acuto?\n",
        "\n",
        "Dissolve frigus ligna super foco               5\n",
        "large reponens atque benignius\n",
        "     deprome quadrimum Sabina,\n",
        "     o Thaliarche, merum diota.\n",
        "\n",
        "Permitte divis cetera, qui simul\n",
        "stravere ventos aequore fervido               10\n",
        "     deproeliantis, nec cupressi\n",
        "     nec veteres agitantur orni.\n",
        "\n",
        "Quid sit futurum cras, fuge quaerere, et\n",
        "quem fors dierum cumque dabit, lucro\n",
        "     adpone nec dulcis amores\n",
        "     sperne, puer, neque tu choreas,               15\n",
        "\n",
        "donec virenti canities abest\n",
        "morosa. Nunc et Campus et areae\n",
        "     lenesque sub noctem susurri\n",
        "     composita repetantur hora,\n",
        "\n",
        "nunc et latentis proditor intumo               20\n",
        "gratus puellae risus ab angulo\n",
        "     pignusque dereptum lacertis\n",
        "     aut digito male pertinaci. \"\"\"\n",
        "\n",
        "# remove punctuation, whitespaces, tabs, linebreak, digits\n",
        "test = re.sub(r\"[,.!?\\d]*\", \"\", test).lower()\n",
        "\n",
        "match_pattern_voki = '([aeiou])'\n",
        "all_match_list = re.findall(match_pattern_voki, test, flags=re.IGNORECASE)\n",
        "text_voki_neu = re.sub(match_pattern_voki,'',test)\n",
        "voki = (', '.join(sorted(all_match_list)))\n",
        "# voki_neu = voki.replace('*','')\n",
        "\n",
        "print(text_voki_neu)\n",
        "print(', '.join(all_match_list))\n",
        "\n",
        "\n"
      ],
      "metadata": {
        "colab": {
          "base_uri": "https://localhost:8080/"
        },
        "id": "yymPldVRxRUn",
        "outputId": "461c20f2-225c-4191-f5d7-c68923e8b74f"
      },
      "execution_count": null,
      "outputs": [
        {
          "output_type": "stream",
          "name": "stdout",
          "text": [
            "vds t lt stt nv cnddm\n",
            "srct nc m sstnnt ns\n",
            "     slv lbrnts glq\n",
            "     flmn cnsttrnt ct\n",
            "\n",
            "dsslv frgs lgn spr fc               \n",
            "lrg rpnns tq bngns\n",
            "     dprm qdrmm sbn\n",
            "      thlrch mrm dt\n",
            "\n",
            "prmtt dvs ctr q sml\n",
            "strvr vnts qr frvd               \n",
            "     dprlnts nc cprss\n",
            "     nc vtrs gtntr rn\n",
            "\n",
            "qd st ftrm crs fg qrr t\n",
            "qm frs drm cmq dbt lcr\n",
            "     dpn nc dlcs mrs\n",
            "     sprn pr nq t chrs               \n",
            "\n",
            "dnc vrnt cnts bst\n",
            "mrs nnc t cmps t r\n",
            "     lnsq sb nctm ssrr\n",
            "     cmpst rptntr hr\n",
            "\n",
            "nnc t ltnts prdtr ntm               \n",
            "grts pll rss b ngl\n",
            "     pgnsq drptm lcrts\n",
            "     t dgt ml prtnc \n",
            "i, e, u, a, a, e, i, e, a, i, u, o, a, e, e, i, a, u, i, e, a, o, u, i, a, e, a, o, a, e, e, u, u, e, u, i, a, o, i, e, i, a, u, o, i, o, e, i, u, i, a, u, e, o, o, a, e, e, o, e, a, u, e, e, i, i, u, e, o, e, u, a, i, u, a, i, a, o, a, i, a, e, e, u, i, o, a, e, i, e, i, i, e, e, a, u, i, i, u, a, e, e, e, o, a, e, u, o, e, e, i, o, e, o, e, i, a, i, e, u, e, i, e, e, e, e, a, i, a, u, o, i, u, i, i, u, u, u, a, u, e, u, a, e, e, e, e, u, e, o, i, e, u, u, u, e, a, i, u, o, a, o, e, e, u, i, a, o, e, e, e, u, e, e, u, e, u, o, e, a, o, e, i, e, i, a, i, i, e, a, e, o, o, a, u, e, a, u, e, a, e, a, e, e, e, u, e, u, o, e, u, u, i, o, o, i, a, e, e, a, u, o, a, u, e, a, e, i, o, i, o, i, u, o, a, u, u, e, a, e, i, u, a, a, u, o, i, u, u, e, e, e, u, a, e, i, a, u, i, i, o, a, e, e, i, a, i\n"
          ]
        }
      ]
    },
    {
      "cell_type": "markdown",
      "source": [
        "### Lautmuster: nur Vokale"
      ],
      "metadata": {
        "id": "wbA6ygCF2I-v"
      }
    },
    {
      "cell_type": "code",
      "source": [
        "import re\n",
        "\n",
        "test = \"\"\"Vides ut alta stet nive candidum\n",
        "Soracte nec iam sustineant onus\n",
        "     silvae laborantes geluque\n",
        "     flumina constiterint acuto?\n",
        "\n",
        "Dissolve frigus ligna super foco               5\n",
        "large reponens atque benignius\n",
        "     deprome quadrimum Sabina,\n",
        "     o Thaliarche, merum diota.\n",
        "\n",
        "Permitte divis cetera, qui simul\n",
        "stravere ventos aequore fervido               10\n",
        "     deproeliantis, nec cupressi\n",
        "     nec veteres agitantur orni.\n",
        "\n",
        "Quid sit futurum cras, fuge quaerere, et\n",
        "quem fors dierum cumque dabit, lucro\n",
        "     adpone nec dulcis amores\n",
        "     sperne, puer, neque tu choreas,               15\n",
        "\n",
        "donec virenti canities abest\n",
        "morosa. Nunc et Campus et areae\n",
        "     lenesque sub noctem susurri\n",
        "     composita repetantur hora,\n",
        "\n",
        "nunc et latentis proditor intumo               20\n",
        "gratus puellae risus ab angulo\n",
        "     pignusque dereptum lacertis\n",
        "     aut digito male pertinaci. \"\"\"\n",
        "\n",
        "# remove punctuation, whitespaces, tabs, linebreak, digits\n",
        "test = re.sub(r\"[,.!?\\d]*\", \"\", test).lower()\n",
        "\n",
        "match_pattern_voki = '([bcdfghlmnpqrstv])'\n",
        "all_match_list = re.findall(match_pattern_voki, test, flags=re.IGNORECASE)\n",
        "text_voki_neu = re.sub(match_pattern_voki,'',test)\n",
        "voki = (', '.join(sorted(all_match_list)))\n",
        "# voki_neu = voki.replace('*','')\n",
        "\n",
        "print(text_voki_neu)\n",
        "print(', '.join(all_match_list))\n",
        "\n",
        "\n"
      ],
      "metadata": {
        "colab": {
          "base_uri": "https://localhost:8080/"
        },
        "outputId": "c3867869-2039-4e00-f837-525fc530938b",
        "id": "reLEyiD12Odc"
      },
      "execution_count": null,
      "outputs": [
        {
          "output_type": "stream",
          "name": "stdout",
          "text": [
            "ie u aa e ie aiu\n",
            "oae e ia uiea ou\n",
            "     iae aoae euue\n",
            "     uia oiei auo\n",
            "\n",
            "ioe iu ia ue oo               \n",
            "ae eoe aue eiiu\n",
            "     eoe uaiu aia\n",
            "     o aiae eu ioa\n",
            "\n",
            "eie ii eea ui iu\n",
            "aee eo aeuoe eio               \n",
            "     eoeiai e uei\n",
            "     e eee aiau oi\n",
            "\n",
            "ui i uuu a ue uaeee e\n",
            "ue o ieu uue ai uo\n",
            "     aoe e ui aoe\n",
            "     ee ue eue u oea               \n",
            "\n",
            "oe iei aiie ae\n",
            "ooa u e au e aeae\n",
            "     eeue u oe uui\n",
            "     ooia eeau oa\n",
            "\n",
            "u e aei oio iuo               \n",
            "au ueae iu a auo\n",
            "     iuue eeu aei\n",
            "     au iio ae eiai \n",
            "v, d, s, t, l, t, s, t, t, n, v, c, n, d, d, m, s, r, c, t, n, c, m, s, s, t, n, n, t, n, s, s, l, v, l, b, r, n, t, s, g, l, q, f, l, m, n, c, n, s, t, t, r, n, t, c, t, d, s, s, l, v, f, r, g, s, l, g, n, s, p, r, f, c, l, r, g, r, p, n, n, s, t, q, b, n, g, n, s, d, p, r, m, q, d, r, m, m, s, b, n, t, h, l, r, c, h, m, r, m, d, t, p, r, m, t, t, d, v, s, c, t, r, q, s, m, l, s, t, r, v, r, v, n, t, s, q, r, f, r, v, d, d, p, r, l, n, t, s, n, c, c, p, r, s, s, n, c, v, t, r, s, g, t, n, t, r, r, n, q, d, s, t, f, t, r, m, c, r, s, f, g, q, r, r, t, q, m, f, r, s, d, r, m, c, m, q, d, b, t, l, c, r, d, p, n, n, c, d, l, c, s, m, r, s, s, p, r, n, p, r, n, q, t, c, h, r, s, d, n, c, v, r, n, t, c, n, t, s, b, s, t, m, r, s, n, n, c, t, c, m, p, s, t, r, l, n, s, q, s, b, n, c, t, m, s, s, r, r, c, m, p, s, t, r, p, t, n, t, r, h, r, n, n, c, t, l, t, n, t, s, p, r, d, t, r, n, t, m, g, r, t, s, p, l, l, r, s, s, b, n, g, l, p, g, n, s, q, d, r, p, t, m, l, c, r, t, s, t, d, g, t, m, l, p, r, t, n, c\n"
          ]
        }
      ]
    },
    {
      "cell_type": "markdown",
      "source": [
        "### Lautmuster K-V-K und V-K-V\n",
        "\n",
        "- File \"Lautmusteranalyse.txt\" wird automatisch auf den Desktop heruntergeladen.\n"
      ],
      "metadata": {
        "id": "WV9tj9t0xE2b"
      }
    },
    {
      "cell_type": "code",
      "source": [
        "import re\n",
        "from google.colab import files\n",
        "\n",
        "text = \"\"\"Vides ut alta stet nive candidum\n",
        "Soracte nec iam sustineant onus\n",
        "     silvae laborantes geluque\n",
        "     flumina constiterint acuto?\n",
        "\n",
        "Dissolve frigus ligna super foco               5\n",
        "large reponens atque benignius\n",
        "     deprome quadrimum Sabina,\n",
        "     o Thaliarche, merum diota.\n",
        "\n",
        "Permitte divis cetera, qui simul\n",
        "stravere ventos aequore fervido               10\n",
        "     deproeliantis, nec cupressi\n",
        "     nec veteres agitantur orni.\n",
        "\n",
        "Quid sit futurum cras, fuge quaerere, et\n",
        "quem fors dierum cumque dabit, lucro\n",
        "     adpone nec dulcis amores\n",
        "     sperne, puer, neque tu choreas,               15\n",
        "\n",
        "donec virenti canities abest\n",
        "morosa. Nunc et Campus et areae\n",
        "     lenesque sub noctem susurri\n",
        "     composita repetantur hora,\n",
        "\n",
        "nunc et latentis proditor intumo               20\n",
        "gratus puellae risus ab angulo\n",
        "     pignusque dereptum lacertis\n",
        "     aut digito male pertinaci. \"\"\"\n",
        "\n",
        "# remove punctuation, whitespaces, tabs, linebreak, digits\n",
        "text = re.sub(r\"[,.!?\\d]*\", \"\", text).lower()\n",
        "\n",
        "# search for pattern K-V-K\n",
        "pattern = re.compile(r'([^aeiou])([aeiou])(\\1)')\n",
        "\n",
        "# search for pattern V-K-V\n",
        "pattern2 = re.compile(r'([aeiou])([^aeiou])(\\1)')\n",
        "\n",
        "# replace  pattern in \"text\"\n",
        "# replace K-V-K with \"---\" in text\n",
        "string = re.sub(pattern, \"---\", text)\n",
        "with open(\"Lautmusteranalyse.txt\", \"w\") as file:\n",
        "        file.write('\\n' + '# Lautmuster K-V-K' + '\\n' + string)\n",
        "        file.close()\n",
        "#replace V-K-V with \"~~~\" in text\n",
        "string2 = re.sub(pattern2, \"~~~\", text)\n",
        "with open(\"Lautmusteranalyse.txt\", \"a\") as file:\n",
        "        file.write('\\n\\n' + '# Lautmuster V-K-V' + '\\n' + string2)\n",
        "        file.close()\n",
        "# replace V-K-V in string\n",
        "string3 = re.sub(pattern2, \"~~~\", string)\n",
        "with open(\"Lautmusteranalyse.txt\", \"a\") as file:\n",
        "        file.write('\\n\\n' + '# Lautmuster K-V-K und V-K-V' + '\\n' + string3)\n",
        "        file.close()\n",
        "\n",
        "# print \n",
        "print(\"Lautmuster K-V-K\\n\\n\")\n",
        "print(string)\n",
        "print(\"\\n\\nLautmuster V-K-V\\n\\n\")\n",
        "print(string2)\n",
        "print(\"\\n\\nLautmuster K-V-K und V-K-V\\n\\n\")\n",
        "print(string3)\n",
        "\n",
        "# download \"Lautmusteranalyse.txt\"\n",
        "files.download('/content/Lautmusteranalyse.txt')\n",
        "print('File auf Festplatte gespeichert!')"
      ],
      "metadata": {
        "colab": {
          "base_uri": "https://localhost:8080/",
          "height": 1000
        },
        "id": "SXnuZ7VdtsAq",
        "outputId": "4263f9ba-2ac4-44df-c5d5-42fe9c32942a"
      },
      "execution_count": null,
      "outputs": [
        {
          "output_type": "stream",
          "name": "stdout",
          "text": [
            "Lautmuster K-V-K\n",
            "\n",
            "\n",
            "vides ut alta s--- nive can---um\n",
            "soracte nec iam ---tineant onus\n",
            "     silvae laborantes geluque\n",
            "     flumina cons---erint acuto\n",
            "\n",
            "dissolve frigus ligna super foco               \n",
            "large repo---s atque benignius\n",
            "     deprome quadri--- sabina\n",
            "     o thaliarche merum diota\n",
            "\n",
            "permitte divis cetera qui simul\n",
            "stravere ventos aequore fervido               \n",
            "     deproeliantis nec cupressi\n",
            "     nec veteres agitantur orni\n",
            "\n",
            "quid sit futurum cras fuge quae---e et\n",
            "quem fors dierum cumque dabit lucro\n",
            "     adpone nec dulcis amores\n",
            "     sperne puer neque tu choreas               \n",
            "\n",
            "donec virenti canities abest\n",
            "morosa ---c et campus et areae\n",
            "     lenesque sub noctem ---urri\n",
            "     composita repetantur hora\n",
            "\n",
            "---c et latentis proditor intumo               \n",
            "gratus puellae ri--- ab angulo\n",
            "     pignusque dereptum lacertis\n",
            "     aut digito male pertinaci \n",
            "\n",
            "\n",
            "Lautmuster V-K-V\n",
            "\n",
            "\n",
            "vides ut alta stet nive candidum\n",
            "soracte nec iam sustineant onus\n",
            "     silvae laborantes gel~~~e\n",
            "     flumina constiterint acuto\n",
            "\n",
            "dissolve frigus ligna super f~~~               \n",
            "large reponens atque benignius\n",
            "     deprome quadrimum sabina\n",
            "     o thaliarche merum diota\n",
            "\n",
            "permitte d~~~s c~~~ra qui simul\n",
            "strav~~~ ventos aequore fervido               \n",
            "     deproeliantis nec cupressi\n",
            "     nec v~~~res agitantur orni\n",
            "\n",
            "quid sit f~~~rum cras fuge qua~~~r~~~t\n",
            "quem fors dierum cumque dabit lucro\n",
            "     adpone nec dulcis amores\n",
            "     sperne puer neque tu choreas               \n",
            "\n",
            "donec virenti can~~~es abest\n",
            "m~~~sa nunc et campus et areae\n",
            "     l~~~sque sub noctem s~~~rri\n",
            "     composita r~~~tantur hora\n",
            "\n",
            "nunc et latentis proditor intumo               \n",
            "gratus puellae risus ab angulo\n",
            "     pignusque d~~~ptum lacertis\n",
            "     aut d~~~to male pertinaci \n",
            "\n",
            "\n",
            "Lautmuster K-V-K und V-K-V\n",
            "\n",
            "\n",
            "vides ut alta s--- nive can---um\n",
            "soracte nec iam ---tineant onus\n",
            "     silvae laborantes gel~~~e\n",
            "     flumina cons---erint acuto\n",
            "\n",
            "dissolve frigus ligna super f~~~               \n",
            "large repo---s atque benignius\n",
            "     deprome quadri--- sabina\n",
            "     o thaliarche merum diota\n",
            "\n",
            "permitte d~~~s c~~~ra qui simul\n",
            "strav~~~ ventos aequore fervido               \n",
            "     deproeliantis nec cupressi\n",
            "     nec v~~~res agitantur orni\n",
            "\n",
            "quid sit f~~~rum cras fuge quae---~~~t\n",
            "quem fors dierum cumque dabit lucro\n",
            "     adpone nec dulcis amores\n",
            "     sperne puer neque tu choreas               \n",
            "\n",
            "donec virenti can~~~es abest\n",
            "m~~~sa ---c et campus et areae\n",
            "     l~~~sque sub noctem ---urri\n",
            "     composita r~~~tantur hora\n",
            "\n",
            "---c et latentis proditor intumo               \n",
            "gratus puellae ri--- ab angulo\n",
            "     pignusque d~~~ptum lacertis\n",
            "     aut d~~~to male pertinaci \n"
          ]
        },
        {
          "output_type": "display_data",
          "data": {
            "text/plain": [
              "<IPython.core.display.Javascript object>"
            ],
            "application/javascript": [
              "\n",
              "    async function download(id, filename, size) {\n",
              "      if (!google.colab.kernel.accessAllowed) {\n",
              "        return;\n",
              "      }\n",
              "      const div = document.createElement('div');\n",
              "      const label = document.createElement('label');\n",
              "      label.textContent = `Downloading \"${filename}\": `;\n",
              "      div.appendChild(label);\n",
              "      const progress = document.createElement('progress');\n",
              "      progress.max = size;\n",
              "      div.appendChild(progress);\n",
              "      document.body.appendChild(div);\n",
              "\n",
              "      const buffers = [];\n",
              "      let downloaded = 0;\n",
              "\n",
              "      const channel = await google.colab.kernel.comms.open(id);\n",
              "      // Send a message to notify the kernel that we're ready.\n",
              "      channel.send({})\n",
              "\n",
              "      for await (const message of channel.messages) {\n",
              "        // Send a message to notify the kernel that we're ready.\n",
              "        channel.send({})\n",
              "        if (message.buffers) {\n",
              "          for (const buffer of message.buffers) {\n",
              "            buffers.push(buffer);\n",
              "            downloaded += buffer.byteLength;\n",
              "            progress.value = downloaded;\n",
              "          }\n",
              "        }\n",
              "      }\n",
              "      const blob = new Blob(buffers, {type: 'application/binary'});\n",
              "      const a = document.createElement('a');\n",
              "      a.href = window.URL.createObjectURL(blob);\n",
              "      a.download = filename;\n",
              "      div.appendChild(a);\n",
              "      a.click();\n",
              "      div.remove();\n",
              "    }\n",
              "  "
            ]
          },
          "metadata": {}
        },
        {
          "output_type": "display_data",
          "data": {
            "text/plain": [
              "<IPython.core.display.Javascript object>"
            ],
            "application/javascript": [
              "download(\"download_ddd24487-af6c-46d0-a956-531471c5f6da\", \"Lautmusteranalyse.txt\", 2940)"
            ]
          },
          "metadata": {}
        },
        {
          "output_type": "stream",
          "name": "stdout",
          "text": [
            "File auf Festplatte gespeichert!\n"
          ]
        }
      ]
    },
    {
      "cell_type": "markdown",
      "source": [
        "## Wortschatzanalysen\n"
      ],
      "metadata": {
        "id": "zdELY-4a5we1"
      }
    },
    {
      "cell_type": "code",
      "source": [
        "import nltk\n",
        "nltk.download('punkt')\n",
        "\n",
        "text = \"\"\"Vides ut alta stet nive candidum\n",
        "Soracte nec iam sustineant onus\n",
        "     silvae laborantes geluque\n",
        "     flumina constiterint acuto?\n",
        "\n",
        "Dissolve frigus ligna super foco               5\n",
        "large reponens atque benignius\n",
        "     deprome quadrimum Sabina,\n",
        "     o Thaliarche, merum diota.\n",
        "\n",
        "Permitte divis cetera, qui simul\n",
        "strauere ventos aequore fervido               10\n",
        "     deproeliantis, nec cupressi\n",
        "     nec veteres agitantur orni.\n",
        "\n",
        "Quid sit futurum cras, fuge quaerere, et\n",
        "quem fors dierum cumque dabit, lucro\n",
        "     adpone nec dulcis amores\n",
        "     sperne, puer, neque tu choreas,               15\n",
        "\n",
        "donec virenti canities abest\n",
        "morosa. Nunc et Campus et areae\n",
        "     lenesque sub noctem susurri\n",
        "     composita repetantur hora,\n",
        "\n",
        "nunc et latentis proditor intumo               20\n",
        "gratus puellae risus ab angulo\n",
        "     pignusque dereptum lacertis\n",
        "     aut digito male pertinaci. \"\"\".lower()\n",
        "\n",
        "\n",
        "# tokenize into sentences:\n",
        "sentences1 = nltk.sent_tokenize(text)\n",
        "# print(sentences1[:3])\n",
        "\n",
        "# tokenize into words:\n",
        "words1 = nltk.word_tokenize(text)\n",
        "words1_d = nltk.word_tokenize(text, language=\"german\")\n",
        "# print(words1)\n",
        "\n",
        "my_document = nltk.Text(words1)\n",
        "my_document_d =nltk.Text(words1_d)\n",
        "\n",
        "print(\"\\n\\n\")\n",
        "print(my_document_d.concordance(\"et\", width=50))\n",
        "print(\"\\n\\n\")\n",
        "\n",
        "my_document_d.dispersion_plot([\"et\", \"ut\", \"nec\", \"nunc\"])\n",
        "\n",
        "# get word frequencies\n",
        "frequencies = nltk.FreqDist(my_document)\n",
        "#print(frequencies['Holmes'])\n",
        "most_common = frequencies.most_common(10)\n",
        "print(\"\\n\\n\")\n",
        "print(most_common)\n",
        "print(\"\\n\\n\")"
      ],
      "metadata": {
        "colab": {
          "base_uri": "https://localhost:8080/",
          "height": 675
        },
        "id": "q72EY396563d",
        "outputId": "2bc6e6f9-2df1-4dbe-b1c8-6ce434e0db59"
      },
      "execution_count": null,
      "outputs": [
        {
          "output_type": "stream",
          "name": "stderr",
          "text": [
            "[nltk_data] Downloading package punkt to /root/nltk_data...\n",
            "[nltk_data]   Unzipping tokenizers/punkt.zip.\n"
          ]
        },
        {
          "output_type": "stream",
          "name": "stdout",
          "text": [
            "\n",
            "\n",
            "\n",
            "Displaying 4 of 4 matches:\n",
            " cras , fuge quaerere , et quem fors dierum cumque\n",
            "ies abest morosa . nunc et campus et areae lenesqu\n",
            "morosa . nunc et campus et areae lenesque sub noct\n",
            " repetantur hora , nunc et latentis proditor intum\n",
            "None\n",
            "\n",
            "\n",
            "\n"
          ]
        },
        {
          "output_type": "display_data",
          "data": {
            "text/plain": [
              "<Figure size 432x288 with 1 Axes>"
            ],
            "image/png": "[encoded data removed]"
          },
          "metadata": {
            "needs_background": "light"
          }
        },
        {
          "output_type": "stream",
          "name": "stdout",
          "text": [
            "\n",
            "\n",
            "\n",
            "[(',', 11), ('nec', 4), ('.', 4), ('et', 4), ('nunc', 2), ('vides', 1), ('ut', 1), ('alta', 1), ('stet', 1), ('nive', 1)]\n",
            "\n",
            "\n",
            "\n"
          ]
        }
      ]
    },
    {
      "cell_type": "code",
      "source": [
        "import re\n",
        "import pandas as pd\n",
        "import matplotlib.pyplot as plt\n",
        "\n",
        "# Get Latin text\n",
        "!curl -O -L https://www.dropbox.com/s/pm53afvm6xorwdm/Horaz.txt\n",
        "\n",
        "# We'll run the full demonstration in the Latin language first\n",
        "with open(\"Horaz.txt\") as fo:\n",
        "    horaz = fo.read()\n",
        "print(\"Character count:\", len(horaz))\n",
        "\n",
        "# remove punctuation, whitespaces, tabs, linebreak, digits\n",
        "horaz = re.sub(r\"[\\n\\t\\s,.!?\\d]*\", \"\", horaz).lower()\n",
        "\n",
        "# convert input to list of chars so it is easy to get into pandas \n",
        "char_list = list(horaz)\n",
        "\n",
        "# create a dataframe where each char is one row\n",
        "df = pd.DataFrame({'chars': char_list})\n",
        "# drop all the space characters\n",
        "df = df[df.chars != ' ']\n",
        "# add a column for aggregation later\n",
        "df['num'] = 1\n",
        "# group rows by character type, count the occurences in each group\n",
        "# and sort by occurance\n",
        "df = df.groupby('chars').sum().sort_values('num', ascending=False) / len(df)\n",
        "\n",
        "plt.bar(df.index, df.num, width=0.5, color='g')\n",
        "plt.show()\n",
        "\n",
        "# print test\n",
        "# print(test)"
      ],
      "metadata": {
        "colab": {
          "base_uri": "https://localhost:8080/",
          "height": 369
        },
        "id": "tplSiXHVCRU0",
        "outputId": "3b09a730-1fd5-4c0b-b3c0-2dc8bba629fa"
      },
      "execution_count": null,
      "outputs": [
        {
          "output_type": "stream",
          "name": "stdout",
          "text": [
            "  % Total    % Received % Xferd  Average Speed   Time    Time     Time  Current\n",
            "                                 Dload  Upload   Total   Spent    Left  Speed\n",
            "100   117    0   117    0     0    310      0 --:--:-- --:--:-- --:--:--   309\n",
            "100   340  100   340    0     0    376      0 --:--:-- --:--:-- --:--:--   376\n",
            "100  123k  100  123k    0     0    99k      0  0:00:01  0:00:01 --:--:--   99k\n",
            "Character count: 111319\n"
          ]
        },
        {
          "output_type": "display_data",
          "data": {
            "text/plain": [
              "<Figure size 432x288 with 1 Axes>"
            ],
            "image/png": "[encoded data removed]"
          },
          "metadata": {
            "needs_background": "light"
          }
        }
      ]
    },
    {
      "cell_type": "code",
      "source": [
        "import numpy\n",
        "import re\n",
        "import operator\n",
        "import matplotlib.pyplot as plt\n",
        "\n",
        "# Get Latin text\n",
        "!curl -O -L https://www.dropbox.com/s/pm53afvm6xorwdm/Horaz.txt\n",
        "\n",
        "# We'll run the full demonstration in the Latin language first\n",
        "with open(\"Horaz.txt\") as fo:\n",
        "    text = fo.read()\n",
        "\n",
        "\n",
        "# remove punctuation, whitespaces, tabs, linebreak, digits\n",
        "text = re.sub(r\"[\\n\\t\\s,.!?\\d]*\", \"\", text).lower()\n",
        "\n",
        "# Python3 code to demonstrate\n",
        "# each occurrence frequency using\n",
        "# dict.get()\n",
        "\n",
        "# using dict.get() to get count\n",
        "# of each element in string\n",
        "res = {}\n",
        "\n",
        "for keys in text:\n",
        "\tres[keys] = res.get(keys, 0) + 1\n",
        "\n",
        "# d = {'one':1,'three':3,'five':5,'two':2,'four':4}\n",
        "#res = dict( sorted(res.items(), key=operator.itemgetter(1),reverse=True))\n",
        "\n",
        "x = res.keys() # a list of the dict keys\n",
        "y = res.values() # a list of the dict values\n",
        "\n",
        "\n",
        "plt.scatter(x, y)\n",
        "plt.show()\n"
      ],
      "metadata": {
        "colab": {
          "base_uri": "https://localhost:8080/",
          "height": 353
        },
        "id": "A7BN_OQ4EJbS",
        "outputId": "d399bb43-ce62-4781-9554-3e519bf8edc1"
      },
      "execution_count": null,
      "outputs": [
        {
          "output_type": "stream",
          "name": "stdout",
          "text": [
            "  % Total    % Received % Xferd  Average Speed   Time    Time     Time  Current\n",
            "                                 Dload  Upload   Total   Spent    Left  Speed\n",
            "100   117    0   117    0     0    198      0 --:--:-- --:--:-- --:--:--   197\n",
            "100   340  100   340    0     0    313      0  0:00:01  0:00:01 --:--:--   313\n",
            "100  123k  100  123k    0     0  83927      0  0:00:01  0:00:01 --:--:-- 5136k\n"
          ]
        },
        {
          "output_type": "display_data",
          "data": {
            "text/plain": [
              "<Figure size 432x288 with 1 Axes>"
            ],
            "image/png": "[encoded data removed]"
          },
          "metadata": {
            "needs_background": "light"
          }
        }
      ]
    },
    {
      "cell_type": "markdown",
      "source": [
        "# Aufgaben erstellen\n",
        "1. Vokale (alle oder einen Teil) weglassen -> Auswendig das Fehlende ergänzen.\n",
        "2. Lückentexte"
      ],
      "metadata": {
        "id": "FlZy38T6HmA0"
      }
    },
    {
      "cell_type": "code",
      "source": [
        "# replace vowels with for-loop\n",
        "test = \"\"\"Vides ut alta stet nive candidum\n",
        "Soracte nec iam sustineant onus\n",
        "     silvae laborantes geluque\n",
        "     flumina constiterint acuto?\n",
        "\n",
        "Dissolve frigus ligna super foco               5\n",
        "large reponens atque benignius\n",
        "     deprome quadrimum Sabina,\n",
        "     o Thaliarche, merum diota.\n",
        "\n",
        "Permitte divis cetera, qui simul\n",
        "stravere ventos aequore fervido               10\n",
        "     deproeliantis, nec cupressi\n",
        "     nec veteres agitantur orni.\n",
        "\n",
        "Quid sit futurum cras, fuge quaerere, et\n",
        "quem fors dierum cumque dabit, lucro\n",
        "     adpone nec dulcis amores\n",
        "     sperne, puer, neque tu choreas,               15\n",
        "\n",
        "donec virenti canities abest\n",
        "morosa. Nunc et Campus et areae\n",
        "     lenesque sub noctem susurri\n",
        "     composita repetantur hora,\n",
        "\n",
        "nunc et latentis proditor intumo               20\n",
        "gratus puellae risus ab angulo\n",
        "     pignusque dereptum lacertis\n",
        "     aut digito male pertinaci. \"\"\".lower()\n",
        "\n",
        "for i in test:\n",
        "  if i.lower() in 'aeiou':\n",
        "    print('-',end='')\n",
        "  else:\n",
        "    print(i,end='')\n"
      ],
      "metadata": {
        "colab": {
          "base_uri": "https://localhost:8080/"
        },
        "id": "_ckFUp8BF9zx",
        "outputId": "24e1841a-ebf6-4922-b62f-5c0a06bfd64b"
      },
      "execution_count": null,
      "outputs": [
        {
          "output_type": "stream",
          "name": "stdout",
          "text": [
            "v-d-s -t -lt- st-t n-v- c-nd-d-m\n",
            "s-r-ct- n-c --m s-st-n--nt -n-s\n",
            "     s-lv-- l-b-r-nt-s g-l-q--\n",
            "     fl-m-n- c-nst-t-r-nt -c-t-?\n",
            "\n",
            "d-ss-lv- fr-g-s l-gn- s-p-r f-c-               5\n",
            "l-rg- r-p-n-ns -tq-- b-n-gn--s\n",
            "     d-pr-m- q--dr-m-m s-b-n-,\n",
            "     - th-l--rch-, m-r-m d--t-.\n",
            "\n",
            "p-rm-tt- d-v-s c-t-r-, q-- s-m-l\n",
            "str-v-r- v-nt-s --q--r- f-rv-d-               10\n",
            "     d-pr--l--nt-s, n-c c-pr-ss-\n",
            "     n-c v-t-r-s -g-t-nt-r -rn-.\n",
            "\n",
            "q--d s-t f-t-r-m cr-s, f-g- q---r-r-, -t\n",
            "q--m f-rs d--r-m c-mq-- d-b-t, l-cr-\n",
            "     -dp-n- n-c d-lc-s -m-r-s\n",
            "     sp-rn-, p--r, n-q-- t- ch-r--s,               15\n",
            "\n",
            "d-n-c v-r-nt- c-n-t--s -b-st\n",
            "m-r-s-. n-nc -t c-mp-s -t -r---\n",
            "     l-n-sq-- s-b n-ct-m s-s-rr-\n",
            "     c-mp-s-t- r-p-t-nt-r h-r-,\n",
            "\n",
            "n-nc -t l-t-nt-s pr-d-t-r -nt-m-               20\n",
            "gr-t-s p--ll-- r-s-s -b -ng-l-\n",
            "     p-gn-sq-- d-r-pt-m l-c-rt-s\n",
            "     --t d-g-t- m-l- p-rt-n-c-. "
          ]
        }
      ]
    }
  ]
}